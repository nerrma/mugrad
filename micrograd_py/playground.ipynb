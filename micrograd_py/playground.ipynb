{
 "cells": [
  {
   "cell_type": "code",
   "execution_count": 1,
   "id": "d0511bbc",
   "metadata": {},
   "outputs": [
    {
     "name": "stderr",
     "output_type": "stream",
     "text": [
      "/home/sina/.local/lib/python3.10/site-packages/scipy/__init__.py:146: UserWarning: A NumPy version >=1.16.5 and <1.23.0 is required for this version of SciPy (detected version 1.24.1\n",
      "  warnings.warn(f\"A NumPy version >={np_minversion} and <{np_maxversion}\"\n"
     ]
    }
   ],
   "source": [
    "from nn import MLP\n",
    "import matplotlib.pyplot as plt\n",
    "import numpy as np\n",
    "import random\n",
    "from sklearn.neural_network import MLPRegressor"
   ]
  },
  {
   "cell_type": "code",
   "execution_count": 2,
   "id": "164a80f0",
   "metadata": {},
   "outputs": [],
   "source": [
    "random.seed(42)\n",
    "np.random.seed(42)"
   ]
  },
  {
   "cell_type": "code",
   "execution_count": 3,
   "id": "6bfd60c4",
   "metadata": {},
   "outputs": [],
   "source": [
    "x = np.array(np.linspace(0, 6, 20))\n",
    "y = [e**2 for e in x]\n",
    "xs = x.reshape(-1, 1)"
   ]
  },
  {
   "cell_type": "code",
   "execution_count": 4,
   "id": "5c2bff02",
   "metadata": {},
   "outputs": [
    {
     "name": "stdout",
     "output_type": "stream",
     "text": [
      "iter 0: loss 0.7044224742289581\n",
      "iter 10: loss 0.2549668994593019\n",
      "iter 20: loss 0.011910301473949926\n",
      "iter 30: loss 1.3127739263972809\n",
      "iter 40: loss 3.6123287298278117\n",
      "iter 50: loss 0.03341013915179342\n",
      "iter 60: loss 9.108531811807369e-05\n",
      "iter 70: loss 2.1581206821917323\n",
      "iter 80: loss 2.530178651875181\n",
      "iter 90: loss 0.003102544982326602\n",
      "iter 100: loss 0.033417789257333706\n",
      "iter 110: loss 0.2508668849111951\n",
      "iter 120: loss 0.0347254108491133\n",
      "iter 130: loss 2.65114017076824\n",
      "iter 140: loss 0.9436369633819045\n",
      "iter 150: loss 0.15747987293644997\n",
      "iter 160: loss 6.555683823679563\n",
      "iter 170: loss 11.703173288922244\n",
      "iter 180: loss 4.141583969694844\n",
      "iter 190: loss 5.99350686308142\n",
      "iter 200: loss 0.1930401293415356\n",
      "iter 210: loss 5.0483198528900735\n",
      "iter 220: loss 4.601494238830777\n",
      "iter 230: loss 13.822994789512121\n",
      "iter 240: loss 0.8579764484585515\n",
      "iter 250: loss 6.0194810500973614e-05\n",
      "iter 260: loss 15.533335897089954\n",
      "iter 270: loss 1.8294153044839245\n",
      "iter 280: loss 0.4006716193310109\n",
      "iter 290: loss 7.909666304461395\n",
      "iter 300: loss 5.801564844420449\n",
      "iter 310: loss 1.0910477562335774\n",
      "iter 320: loss 0.1343613302515642\n",
      "iter 330: loss 33.33418264909429\n",
      "iter 340: loss 3.0115633214563093\n",
      "iter 350: loss 0.11863486683554399\n",
      "iter 360: loss 6.33853875078851\n",
      "iter 370: loss 0.0952198311683726\n",
      "iter 380: loss 7.571409807572751\n",
      "iter 390: loss 0.09147655902739968\n",
      "iter 400: loss 11.16942959880237\n",
      "iter 410: loss 0.8201191291964988\n",
      "iter 420: loss 0.9742492401495926\n",
      "iter 430: loss 0.044558403435983066\n",
      "iter 440: loss 0.1245639823116659\n",
      "iter 450: loss 0.026365511547254767\n",
      "iter 460: loss 5.081098976698896\n",
      "iter 470: loss 5.890599707093529\n",
      "iter 480: loss 15.793399780011402\n",
      "iter 490: loss 2.690242458713066\n"
     ]
    }
   ],
   "source": [
    "#nn = MLP([(1, 16), (16, 32), (32, 16), (16, 1)], activation='tanh')\n",
    "nn = MLP([(1, 32), (32, 64), (64, 64), (64, 32), (32, 16), (16, 1)], activation='tanh')\n",
    "\n",
    "nit = 500\n",
    "eta = 0.01\n",
    "y_hat = None\n",
    "idxs = np.random.choice(np.arange(0, len(xs)), nit)\n",
    "for i in range(nit):\n",
    "    #y_hat = [nn(x) for x in xs]\n",
    "    #loss = sum((y_h - y_t) ** 2 for y_h, y_t in zip(y_hat, y))/len(x)\n",
    "    y_hat = nn(xs[idxs[i]])\n",
    "    loss = (y_hat - y[idxs[i]])** 2/len(x)\n",
    "    nn.zero_grad()\n",
    "    loss.backward()\n",
    "    \n",
    "    if i%10 == 0:\n",
    "        print(f\"iter {i}: loss {loss.data}\")\n",
    "\n",
    "    for p in nn.parameters():\n",
    "        p.data -= eta * p.grad"
   ]
  },
  {
   "cell_type": "code",
   "execution_count": 5,
   "id": "f8a7c21e",
   "metadata": {},
   "outputs": [],
   "source": [
    "nn_pred = [nn(d).data for d in xs]"
   ]
  },
  {
   "cell_type": "code",
   "execution_count": 6,
   "id": "12ccc402",
   "metadata": {},
   "outputs": [],
   "source": [
    "rgr = MLPRegressor(hidden_layer_sizes=(32, 64, 32, 16), max_iter=500, solver='sgd', activation='tanh')\n",
    "rgr.fit(xs, y)\n",
    "y_pred = rgr.predict(xs)"
   ]
  },
  {
   "cell_type": "code",
   "execution_count": 7,
   "id": "e4fdb912",
   "metadata": {},
   "outputs": [
    {
     "data": {
      "text/plain": [
       "<matplotlib.legend.Legend at 0x7f4806251840>"
      ]
     },
     "execution_count": 7,
     "metadata": {},
     "output_type": "execute_result"
    },
    {
     "data": {
      "image/png": "[encoded data removed]",
      "text/plain": [
       "<Figure size 640x480 with 1 Axes>"
      ]
     },
     "metadata": {},
     "output_type": "display_data"
    }
   ],
   "source": [
    "plt.scatter(xs, y, c='purple', alpha=0.25, label='y')\n",
    "plt.plot(xs, y_pred, c='green', alpha=0.5, label='sklearn')\n",
    "plt.plot(xs, nn_pred, c='red', label='mugrad')\n",
    "plt.legend()"
   ]
  }
 ],
 "metadata": {
  "kernelspec": {
   "display_name": "Python 3 (ipykernel)",
   "language": "python",
   "name": "python3"
  },
  "language_info": {
   "codemirror_mode": {
    "name": "ipython",
    "version": 3
   },
   "file_extension": ".py",
   "mimetype": "text/x-python",
   "name": "python",
   "nbconvert_exporter": "python",
   "pygments_lexer": "ipython3",
   "version": "3.10.8"
  }
 },
 "nbformat": 4,
 "nbformat_minor": 5
}
